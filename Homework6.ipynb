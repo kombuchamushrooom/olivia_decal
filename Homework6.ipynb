{
 "cells": [
  {
   "cell_type": "code",
   "execution_count": 142,
   "id": "76fa1704-0e57-4170-ad86-0a3c3347f8df",
   "metadata": {
    "scrolled": true
   },
   "outputs": [
    {
     "name": "stdout",
     "output_type": "stream",
     "text": [
      "[[2, 3, 5], [11, 13, 17], [7, 10, 13]]\n"
     ]
    }
   ],
   "source": [
    "import numpy as np\n",
    "#1\n",
    "\n",
    "def isPrime(num):    #Checks if a number is prime, if prime, returns number, if composite or equal to 1, returns nothing\n",
    "    numList= [2,3,4,5,6,7,8,9,10]\n",
    "    sumDiv = 0\n",
    "    for i in range(0, len(numList)):\n",
    "        if num % numList[i] != 0 and numList[i] != num and num != 1:\n",
    "            sumDiv += 0\n",
    "        elif num != numList[i]:\n",
    "            sumDiv += 1\n",
    "    if sumDiv == 0:\n",
    "        return True\n",
    "        # return num\n",
    "            \n",
    "# str(isPrime(4))\n",
    "\n",
    "def containsPrimes(array):\n",
    "    row = []\n",
    "    newArray = []\n",
    "    for i in range(0, len(array)):\n",
    "        row = array[i]\n",
    "        sumOfPrimes = 0\n",
    "        for j in range(0, len(array[i])):\n",
    "            currNum = row[j]\n",
    "            if isPrime(currNum) == True:\n",
    "                sumOfPrimes += 1\n",
    "        if sumOfPrimes > 0:\n",
    "            newArray.append(list(array[i]))\n",
    "    return newArray\n",
    "\n",
    "            \n",
    "arr = np.array([[2,3,5],[4,6,8],[11,13,17],[7,10,13]])\n",
    "print(containsPrimes(arr))"
   ]
  },
  {
   "cell_type": "code",
   "execution_count": 312,
   "id": "ee2c75ea-5501-42d0-b86e-9793f79064a2",
   "metadata": {},
   "outputs": [
    {
     "name": "stdout",
     "output_type": "stream",
     "text": [
      "[[0, 0, 0, 0, 0, 0, 0, 0], [0, 0, 0, 0, 0, 0, 0, 0], [0, 0, 0, 0, 0, 0, 0, 0], [0, 0, 0, 0, 0, 0, 0, 0], [0, 0, 0, 0, 0, 0, 0, 0], [0, 0, 0, 0, 0, 0, 0, 0], [0, 0, 0, 0, 0, 0, 0, 0], [0, 0, 0, 0, 0, 0, 0, 0]]\n",
      "[[1, 0, 1, 0, 1, 0, 1, 0], [0, 0, 0, 0, 0, 0, 0, 0], [1, 0, 1, 0, 1, 0, 1, 0], [0, 0, 0, 0, 0, 0, 0, 0], [1, 0, 1, 0, 1, 0, 1, 0], [0, 0, 0, 0, 0, 0, 0, 0], [1, 0, 1, 0, 1, 0, 1, 0], [0, 0, 0, 0, 0, 0, 0, 0]]\n",
      "[[1, 0, 1, 0, 1, 0, 1, 0], [0, 1, 0, 1, 0, 1, 0, 1], [1, 0, 1, 0, 1, 0, 1, 0], [0, 1, 0, 1, 0, 1, 0, 1], [1, 0, 1, 0, 1, 0, 1, 0], [0, 1, 0, 1, 0, 1, 0, 1], [1, 0, 1, 0, 1, 0, 1, 0], [0, 1, 0, 1, 0, 1, 0, 1]]\n",
      "[[0, 1, 0, 1, 0, 1, 0, 1], [1, 0, 1, 0, 1, 0, 1, 0], [0, 1, 0, 1, 0, 1, 0, 1], [1, 0, 1, 0, 1, 0, 1, 0], [0, 1, 0, 1, 0, 1, 0, 1], [1, 0, 1, 0, 1, 0, 1, 0], [0, 1, 0, 1, 0, 1, 0, 1], [1, 0, 1, 0, 1, 0, 1, 0]]\n"
     ]
    }
   ],
   "source": [
    "#2\n",
    "#2.1\n",
    "def checkerboard1():\n",
    "    cols = 8\n",
    "    newCheckerboard = [] * cols\n",
    "    for i in range(0, cols):\n",
    "        rows = []\n",
    "        for j in range(0, cols):\n",
    "            rows.append(0)\n",
    "        newCheckerboard.append(rows)\n",
    "    return newCheckerboard\n",
    "\n",
    "print(checkerboard1())\n",
    "\n",
    "#2.2\n",
    "def checkerboard2():\n",
    "    cols = 8\n",
    "    newCheckerboard = [] * cols\n",
    "    for i in range(0, cols):\n",
    "        rows = []\n",
    "        for j in range(0, cols):\n",
    "            if i % 2 == 0:\n",
    "                if j % 2 == 1:\n",
    "                    rows.append(0)\n",
    "                if j % 2 == 0:\n",
    "                    rows.append(1)\n",
    "            else:\n",
    "                rows.append(0)\n",
    "        newCheckerboard.append(rows)\n",
    "    return newCheckerboard\n",
    "\n",
    "print(checkerboard2())\n",
    "\n",
    "#2.3\n",
    "def checkerboard3():\n",
    "    cols = 8\n",
    "    newCheckerboard = [] * cols\n",
    "    for i in range(0, cols):\n",
    "        rows = []\n",
    "        for j in range(0, cols):\n",
    "            if i % 2 == 0:\n",
    "                if j % 2 == 1:\n",
    "                    rows.append(0)\n",
    "                if j % 2 == 0:\n",
    "                    rows.append(1)\n",
    "            if i % 2 == 1:\n",
    "                if j % 2 == 0:\n",
    "                    rows.append(0)\n",
    "                if j % 2 == 1:\n",
    "                    rows.append(1)\n",
    "        newCheckerboard.append(rows)\n",
    "    return newCheckerboard\n",
    "\n",
    "print(checkerboard3())\n",
    "\n",
    "#2.4\n",
    "def checkerboard4():\n",
    "    cols = 8\n",
    "    newCheckerboard = [] * cols\n",
    "    for i in range(0, cols):\n",
    "        rows = []\n",
    "        for j in range(0, cols):\n",
    "            if i % 2 == 1:\n",
    "                if j % 2 == 1:\n",
    "                    rows.append(0)\n",
    "                if j % 2 == 0:\n",
    "                    rows.append(1)\n",
    "            if i % 2 == 0:\n",
    "                if j % 2 == 0:\n",
    "                    rows.append(0)\n",
    "                if j % 2 == 1:\n",
    "                    rows.append(1)\n",
    "        newCheckerboard.append(rows)\n",
    "    return newCheckerboard\n",
    "\n",
    "print(checkerboard4())"
   ]
  },
  {
   "cell_type": "code",
   "execution_count": 237,
   "id": "41a74f9d-ced3-494d-ad47-d03cdf63c5b1",
   "metadata": {},
   "outputs": [
    {
     "name": "stdout",
     "output_type": "stream",
     "text": [
      "['g  a  l  a  x  y  ', 'c  l  u  s  t  e  r  s  ']\n"
     ]
    }
   ],
   "source": [
    "#3\n",
    "\n",
    "def expansion(stringarr, numspaces):\n",
    "    newstringarr = []\n",
    "    spaces = \"\"\n",
    "    for n in range(0, numspaces):\n",
    "        spaces += \" \"\n",
    "    for i in range(0, len(stringarr)):\n",
    "        newstr = \"\"\n",
    "        currstring = stringarr[i]\n",
    "        for j in range(0, len(currstring)):\n",
    "            newstr += currstring[j]\n",
    "            newstr += spaces\n",
    "        newstringarr.append(newstr)\n",
    "    return newstringarr\n",
    "\n",
    "universe = np.array(['galaxy', 'clusters'])\n",
    "print(expansion(universe, 2))"
   ]
  },
  {
   "cell_type": "code",
   "execution_count": 332,
   "id": "bdf0c6e2-8ae5-4c54-a1ca-054b7bfcd67d",
   "metadata": {},
   "outputs": [
    {
     "data": {
      "text/plain": [
       "array([1324, 1567, 1345, 1367, 1489])"
      ]
     },
     "execution_count": 332,
     "metadata": {},
     "output_type": "execute_result"
    }
   ],
   "source": [
    "#4\n",
    "\n",
    "def secondDimmest(stars):\n",
    "    second_dimmest = []\n",
    "    for i in range(0, len(stars)):\n",
    "        newuniquearray = np.unique(stars[i])\n",
    "        newuniquelist = (newuniquearray).tolist()\n",
    "        newuniquelist.remove(min(stars[i]))\n",
    "        second_dimmest.append(min(newuniquelist))\n",
    "    return np.array(second_dimmest)\n",
    "\n",
    "\n",
    "np.random.seed(123)\n",
    "# stars = np.random.randint(500, 2000, (5, 5))\n",
    "stars = np.array([[1123, 1456, 1789, 1324, 1876],\n",
    "[1567, 1987, 1678, 1405, 1589],\n",
    "[1345, 1654, 1523, 1109, 1923],\n",
    "[1298, 1890, 1367, 1784, 1432],\n",
    "[1823, 1756, 1489, 1672, 1550]])\n",
    "secondDimmest(stars)\n",
    "# array([1298, 1654, 1489, 1324, 1550])\n",
    "\n",
    "# stars2 = np.array([[1123, 1456, 1789, 1324, 1876, 1324], ##Checking for duplicates scenario\n",
    "# [1567, 1987, 1678, 1405, 1589, 1589],\n",
    "# [1345, 1654, 1523, 1109, 1923, 1900],\n",
    "# [1298, 1890, 1367, 1784, 1432, 1500],\n",
    "# [1823, 1756, 1489, 1672, 1550, 1400]])\n",
    "# secondDimmest(stars2)"
   ]
  }
 ],
 "metadata": {
  "kernelspec": {
   "display_name": "Python [conda env:base] *",
   "language": "python",
   "name": "conda-base-py"
  },
  "language_info": {
   "codemirror_mode": {
    "name": "ipython",
    "version": 3
   },
   "file_extension": ".py",
   "mimetype": "text/x-python",
   "name": "python",
   "nbconvert_exporter": "python",
   "pygments_lexer": "ipython3",
   "version": "3.12.7"
  }
 },
 "nbformat": 4,
 "nbformat_minor": 5
}
